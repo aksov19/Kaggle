{
 "cells": [
  {
   "cell_type": "code",
   "execution_count": 1,
   "id": "ed5cf655",
   "metadata": {
    "_cell_guid": "b1076dfc-b9ad-4769-8c92-a6c4dae69d19",
    "_uuid": "8f2839f25d086af736a60e9eeb907d3b93b6e0e5",
    "execution": {
     "iopub.execute_input": "2022-04-24T19:50:17.492019Z",
     "iopub.status.busy": "2022-04-24T19:50:17.491325Z",
     "iopub.status.idle": "2022-04-24T19:50:19.665413Z",
     "shell.execute_reply": "2022-04-24T19:50:19.664577Z"
    },
    "papermill": {
     "duration": 2.211149,
     "end_time": "2022-04-24T19:50:19.668023",
     "exception": false,
     "start_time": "2022-04-24T19:50:17.456874",
     "status": "completed"
    },
    "tags": []
   },
   "outputs": [
    {
     "name": "stdout",
     "output_type": "stream",
     "text": [
      "/kaggle/input/quora-insincere-questions-classification/sample_submission.csv\n",
      "/kaggle/input/quora-insincere-questions-classification/embeddings.zip\n",
      "/kaggle/input/quora-insincere-questions-classification/train.csv\n",
      "/kaggle/input/quora-insincere-questions-classification/test.csv\n"
     ]
    }
   ],
   "source": [
    "import numpy as np\n",
    "import pandas as pd\n",
    "\n",
    "import torch\n",
    "import torch.nn as nn\n",
    "import torchtext\n",
    "\n",
    "import matplotlib.pyplot as plt\n",
    "import seaborn as sns\n",
    "\n",
    "from tqdm import tqdm\n",
    "import time\n",
    "\n",
    "import os\n",
    "for dirname, _, filenames in os.walk('/kaggle/input'):\n",
    "    for filename in filenames:\n",
    "        print(os.path.join(dirname, filename))"
   ]
  },
  {
   "cell_type": "code",
   "execution_count": 2,
   "id": "14dee35b",
   "metadata": {
    "execution": {
     "iopub.execute_input": "2022-04-24T19:50:19.734960Z",
     "iopub.status.busy": "2022-04-24T19:50:19.734470Z",
     "iopub.status.idle": "2022-04-24T19:53:31.589767Z",
     "shell.execute_reply": "2022-04-24T19:53:31.588444Z"
    },
    "papermill": {
     "duration": 191.891037,
     "end_time": "2022-04-24T19:53:31.592344",
     "exception": false,
     "start_time": "2022-04-24T19:50:19.701307",
     "status": "completed"
    },
    "tags": []
   },
   "outputs": [
    {
     "name": "stdout",
     "output_type": "stream",
     "text": [
      "Archive:  ../input/quora-insincere-questions-classification/embeddings.zip\r\n",
      "   creating: GoogleNews-vectors-negative300/\r\n",
      "   creating: glove.840B.300d/\r\n",
      "   creating: paragram_300_sl999/\r\n",
      "   creating: wiki-news-300d-1M/\r\n",
      "  inflating: glove.840B.300d/glove.840B.300d.txt  \r\n",
      "  inflating: GoogleNews-vectors-negative300/GoogleNews-vectors-negative300.bin  \r\n",
      "  inflating: wiki-news-300d-1M/wiki-news-300d-1M.vec  \r\n",
      "  inflating: paragram_300_sl999/README.txt  \r\n",
      "  inflating: paragram_300_sl999/paragram_300_sl999.txt  \r\n"
     ]
    }
   ],
   "source": [
    "!unzip ../input/quora-insincere-questions-classification/embeddings.zip"
   ]
  },
  {
   "cell_type": "code",
   "execution_count": 3,
   "id": "46226924",
   "metadata": {
    "execution": {
     "iopub.execute_input": "2022-04-24T19:53:31.662434Z",
     "iopub.status.busy": "2022-04-24T19:53:31.662056Z",
     "iopub.status.idle": "2022-04-24T19:53:35.166831Z",
     "shell.execute_reply": "2022-04-24T19:53:35.165661Z"
    },
    "papermill": {
     "duration": 3.543648,
     "end_time": "2022-04-24T19:53:35.169326",
     "exception": false,
     "start_time": "2022-04-24T19:53:31.625678",
     "status": "completed"
    },
    "tags": []
   },
   "outputs": [],
   "source": [
    "!rm ./wiki-news-300d-1M -r\n",
    "!rm ./GoogleNews-vectors-negative300 -r\n",
    "!rm ./paragram_300_sl999 -r"
   ]
  },
  {
   "cell_type": "code",
   "execution_count": 4,
   "id": "5c1bad39",
   "metadata": {
    "execution": {
     "iopub.execute_input": "2022-04-24T19:53:35.240497Z",
     "iopub.status.busy": "2022-04-24T19:53:35.239772Z",
     "iopub.status.idle": "2022-04-24T19:53:35.252947Z",
     "shell.execute_reply": "2022-04-24T19:53:35.252075Z"
    },
    "papermill": {
     "duration": 0.05006,
     "end_time": "2022-04-24T19:53:35.254891",
     "exception": false,
     "start_time": "2022-04-24T19:53:35.204831",
     "status": "completed"
    },
    "tags": []
   },
   "outputs": [
    {
     "data": {
      "text/plain": [
       "device(type='cpu')"
      ]
     },
     "execution_count": 4,
     "metadata": {},
     "output_type": "execute_result"
    }
   ],
   "source": [
    "DEVICE = torch.device(\"cuda\" if torch.cuda.is_available() else \"cpu\")\n",
    "DEVICE"
   ]
  },
  {
   "cell_type": "code",
   "execution_count": 5,
   "id": "01d439b4",
   "metadata": {
    "execution": {
     "iopub.execute_input": "2022-04-24T19:53:35.323824Z",
     "iopub.status.busy": "2022-04-24T19:53:35.323543Z",
     "iopub.status.idle": "2022-04-24T19:53:41.037089Z",
     "shell.execute_reply": "2022-04-24T19:53:41.036105Z"
    },
    "papermill": {
     "duration": 5.750375,
     "end_time": "2022-04-24T19:53:41.039422",
     "exception": false,
     "start_time": "2022-04-24T19:53:35.289047",
     "status": "completed"
    },
    "tags": []
   },
   "outputs": [],
   "source": [
    "test_csv  = pd.read_csv('../input/quora-insincere-questions-classification/test.csv')\n",
    "train_csv = pd.read_csv('../input/quora-insincere-questions-classification/train.csv')"
   ]
  },
  {
   "cell_type": "code",
   "execution_count": 6,
   "id": "6171cbe8",
   "metadata": {
    "execution": {
     "iopub.execute_input": "2022-04-24T19:53:41.107720Z",
     "iopub.status.busy": "2022-04-24T19:53:41.107415Z",
     "iopub.status.idle": "2022-04-24T19:53:41.321176Z",
     "shell.execute_reply": "2022-04-24T19:53:41.320137Z"
    },
    "papermill": {
     "duration": 0.250283,
     "end_time": "2022-04-24T19:53:41.323233",
     "exception": false,
     "start_time": "2022-04-24T19:53:41.072950",
     "status": "completed"
    },
    "tags": []
   },
   "outputs": [
    {
     "name": "stdout",
     "output_type": "stream",
     "text": [
      "<class 'pandas.core.frame.DataFrame'>\n",
      "RangeIndex: 1306122 entries, 0 to 1306121\n",
      "Data columns (total 3 columns):\n",
      " #   Column         Non-Null Count    Dtype \n",
      "---  ------         --------------    ----- \n",
      " 0   qid            1306122 non-null  object\n",
      " 1   question_text  1306122 non-null  object\n",
      " 2   target         1306122 non-null  int64 \n",
      "dtypes: int64(1), object(2)\n",
      "memory usage: 29.9+ MB\n",
      "<class 'pandas.core.frame.DataFrame'>\n",
      "RangeIndex: 375806 entries, 0 to 375805\n",
      "Data columns (total 2 columns):\n",
      " #   Column         Non-Null Count   Dtype \n",
      "---  ------         --------------   ----- \n",
      " 0   qid            375806 non-null  object\n",
      " 1   question_text  375806 non-null  object\n",
      "dtypes: object(2)\n",
      "memory usage: 5.7+ MB\n"
     ]
    },
    {
     "data": {
      "text/plain": [
       "(None, None)"
      ]
     },
     "execution_count": 6,
     "metadata": {},
     "output_type": "execute_result"
    }
   ],
   "source": [
    "train_csv.info(), test_csv.info()"
   ]
  },
  {
   "cell_type": "code",
   "execution_count": 7,
   "id": "4e164313",
   "metadata": {
    "execution": {
     "iopub.execute_input": "2022-04-24T19:53:41.393697Z",
     "iopub.status.busy": "2022-04-24T19:53:41.393169Z",
     "iopub.status.idle": "2022-04-24T19:53:41.410998Z",
     "shell.execute_reply": "2022-04-24T19:53:41.410148Z"
    },
    "papermill": {
     "duration": 0.055824,
     "end_time": "2022-04-24T19:53:41.412937",
     "exception": false,
     "start_time": "2022-04-24T19:53:41.357113",
     "status": "completed"
    },
    "tags": []
   },
   "outputs": [
    {
     "data": {
      "text/html": [
       "<div>\n",
       "<style scoped>\n",
       "    .dataframe tbody tr th:only-of-type {\n",
       "        vertical-align: middle;\n",
       "    }\n",
       "\n",
       "    .dataframe tbody tr th {\n",
       "        vertical-align: top;\n",
       "    }\n",
       "\n",
       "    .dataframe thead th {\n",
       "        text-align: right;\n",
       "    }\n",
       "</style>\n",
       "<table border=\"1\" class=\"dataframe\">\n",
       "  <thead>\n",
       "    <tr style=\"text-align: right;\">\n",
       "      <th></th>\n",
       "      <th>qid</th>\n",
       "      <th>question_text</th>\n",
       "      <th>target</th>\n",
       "    </tr>\n",
       "  </thead>\n",
       "  <tbody>\n",
       "    <tr>\n",
       "      <th>0</th>\n",
       "      <td>00002165364db923c7e6</td>\n",
       "      <td>How did Quebec nationalists see their province...</td>\n",
       "      <td>0</td>\n",
       "    </tr>\n",
       "    <tr>\n",
       "      <th>1</th>\n",
       "      <td>000032939017120e6e44</td>\n",
       "      <td>Do you have an adopted dog, how would you enco...</td>\n",
       "      <td>0</td>\n",
       "    </tr>\n",
       "    <tr>\n",
       "      <th>2</th>\n",
       "      <td>0000412ca6e4628ce2cf</td>\n",
       "      <td>Why does velocity affect time? Does velocity a...</td>\n",
       "      <td>0</td>\n",
       "    </tr>\n",
       "    <tr>\n",
       "      <th>3</th>\n",
       "      <td>000042bf85aa498cd78e</td>\n",
       "      <td>How did Otto von Guericke used the Magdeburg h...</td>\n",
       "      <td>0</td>\n",
       "    </tr>\n",
       "    <tr>\n",
       "      <th>4</th>\n",
       "      <td>0000455dfa3e01eae3af</td>\n",
       "      <td>Can I convert montra helicon D to a mountain b...</td>\n",
       "      <td>0</td>\n",
       "    </tr>\n",
       "  </tbody>\n",
       "</table>\n",
       "</div>"
      ],
      "text/plain": [
       "                    qid                                      question_text  \\\n",
       "0  00002165364db923c7e6  How did Quebec nationalists see their province...   \n",
       "1  000032939017120e6e44  Do you have an adopted dog, how would you enco...   \n",
       "2  0000412ca6e4628ce2cf  Why does velocity affect time? Does velocity a...   \n",
       "3  000042bf85aa498cd78e  How did Otto von Guericke used the Magdeburg h...   \n",
       "4  0000455dfa3e01eae3af  Can I convert montra helicon D to a mountain b...   \n",
       "\n",
       "   target  \n",
       "0       0  \n",
       "1       0  \n",
       "2       0  \n",
       "3       0  \n",
       "4       0  "
      ]
     },
     "execution_count": 7,
     "metadata": {},
     "output_type": "execute_result"
    }
   ],
   "source": [
    "train_csv.head()"
   ]
  },
  {
   "cell_type": "code",
   "execution_count": 8,
   "id": "5e1c0df2",
   "metadata": {
    "execution": {
     "iopub.execute_input": "2022-04-24T19:53:41.483181Z",
     "iopub.status.busy": "2022-04-24T19:53:41.482881Z",
     "iopub.status.idle": "2022-04-24T19:53:41.490992Z",
     "shell.execute_reply": "2022-04-24T19:53:41.490431Z"
    },
    "papermill": {
     "duration": 0.045078,
     "end_time": "2022-04-24T19:53:41.492626",
     "exception": false,
     "start_time": "2022-04-24T19:53:41.447548",
     "status": "completed"
    },
    "tags": []
   },
   "outputs": [
    {
     "data": {
      "text/html": [
       "<div>\n",
       "<style scoped>\n",
       "    .dataframe tbody tr th:only-of-type {\n",
       "        vertical-align: middle;\n",
       "    }\n",
       "\n",
       "    .dataframe tbody tr th {\n",
       "        vertical-align: top;\n",
       "    }\n",
       "\n",
       "    .dataframe thead th {\n",
       "        text-align: right;\n",
       "    }\n",
       "</style>\n",
       "<table border=\"1\" class=\"dataframe\">\n",
       "  <thead>\n",
       "    <tr style=\"text-align: right;\">\n",
       "      <th></th>\n",
       "      <th>qid</th>\n",
       "      <th>question_text</th>\n",
       "    </tr>\n",
       "  </thead>\n",
       "  <tbody>\n",
       "    <tr>\n",
       "      <th>0</th>\n",
       "      <td>0000163e3ea7c7a74cd7</td>\n",
       "      <td>Why do so many women become so rude and arroga...</td>\n",
       "    </tr>\n",
       "    <tr>\n",
       "      <th>1</th>\n",
       "      <td>00002bd4fb5d505b9161</td>\n",
       "      <td>When should I apply for RV college of engineer...</td>\n",
       "    </tr>\n",
       "    <tr>\n",
       "      <th>2</th>\n",
       "      <td>00007756b4a147d2b0b3</td>\n",
       "      <td>What is it really like to be a nurse practitio...</td>\n",
       "    </tr>\n",
       "    <tr>\n",
       "      <th>3</th>\n",
       "      <td>000086e4b7e1c7146103</td>\n",
       "      <td>Who are entrepreneurs?</td>\n",
       "    </tr>\n",
       "    <tr>\n",
       "      <th>4</th>\n",
       "      <td>0000c4c3fbe8785a3090</td>\n",
       "      <td>Is education really making good people nowadays?</td>\n",
       "    </tr>\n",
       "  </tbody>\n",
       "</table>\n",
       "</div>"
      ],
      "text/plain": [
       "                    qid                                      question_text\n",
       "0  0000163e3ea7c7a74cd7  Why do so many women become so rude and arroga...\n",
       "1  00002bd4fb5d505b9161  When should I apply for RV college of engineer...\n",
       "2  00007756b4a147d2b0b3  What is it really like to be a nurse practitio...\n",
       "3  000086e4b7e1c7146103                             Who are entrepreneurs?\n",
       "4  0000c4c3fbe8785a3090   Is education really making good people nowadays?"
      ]
     },
     "execution_count": 8,
     "metadata": {},
     "output_type": "execute_result"
    }
   ],
   "source": [
    "test_csv.head()"
   ]
  },
  {
   "cell_type": "markdown",
   "id": "4025945c",
   "metadata": {
    "papermill": {
     "duration": 0.034701,
     "end_time": "2022-04-24T19:53:41.562420",
     "exception": false,
     "start_time": "2022-04-24T19:53:41.527719",
     "status": "completed"
    },
    "tags": []
   },
   "source": [
    "# Exploratory Data Analysis"
   ]
  },
  {
   "cell_type": "markdown",
   "id": "6738b4be",
   "metadata": {
    "papermill": {
     "duration": 0.034495,
     "end_time": "2022-04-24T19:53:41.632095",
     "exception": false,
     "start_time": "2022-04-24T19:53:41.597600",
     "status": "completed"
    },
    "tags": []
   },
   "source": [
    "## Tokenize sentences and look at their lengths"
   ]
  },
  {
   "cell_type": "code",
   "execution_count": 9,
   "id": "cc90c119",
   "metadata": {
    "execution": {
     "iopub.execute_input": "2022-04-24T19:53:41.703640Z",
     "iopub.status.busy": "2022-04-24T19:53:41.703013Z",
     "iopub.status.idle": "2022-04-24T19:53:41.707005Z",
     "shell.execute_reply": "2022-04-24T19:53:41.706403Z"
    },
    "papermill": {
     "duration": 0.041797,
     "end_time": "2022-04-24T19:53:41.708763",
     "exception": false,
     "start_time": "2022-04-24T19:53:41.666966",
     "status": "completed"
    },
    "tags": []
   },
   "outputs": [],
   "source": [
    "from torchtext.data.utils import get_tokenizer\n",
    "\n",
    "tokenizer = get_tokenizer('basic_english')"
   ]
  },
  {
   "cell_type": "code",
   "execution_count": 10,
   "id": "3ed7bc0e",
   "metadata": {
    "execution": {
     "iopub.execute_input": "2022-04-24T19:53:41.781056Z",
     "iopub.status.busy": "2022-04-24T19:53:41.780631Z",
     "iopub.status.idle": "2022-04-24T19:54:04.081769Z",
     "shell.execute_reply": "2022-04-24T19:54:04.080660Z"
    },
    "papermill": {
     "duration": 22.339883,
     "end_time": "2022-04-24T19:54:04.084576",
     "exception": false,
     "start_time": "2022-04-24T19:53:41.744693",
     "status": "completed"
    },
    "tags": []
   },
   "outputs": [],
   "source": [
    "# Tokenize sentences in train and test sets\n",
    "train_csv_tokenized = train_csv.copy()\n",
    "test_csv_tokenized  = test_csv.copy()\n",
    "train_csv_tokenized['question_text'] = train_csv['question_text'].apply(lambda x: tokenizer(x))\n",
    "test_csv_tokenized['question_text']  = test_csv['question_text'].apply(lambda x: tokenizer(x))"
   ]
  },
  {
   "cell_type": "code",
   "execution_count": 11,
   "id": "ae5c3dd3",
   "metadata": {
    "execution": {
     "iopub.execute_input": "2022-04-24T19:54:04.155974Z",
     "iopub.status.busy": "2022-04-24T19:54:04.155576Z",
     "iopub.status.idle": "2022-04-24T19:54:04.861317Z",
     "shell.execute_reply": "2022-04-24T19:54:04.860548Z"
    },
    "papermill": {
     "duration": 0.744443,
     "end_time": "2022-04-24T19:54:04.863614",
     "exception": false,
     "start_time": "2022-04-24T19:54:04.119171",
     "status": "completed"
    },
    "tags": []
   },
   "outputs": [],
   "source": [
    "# Get train and test sentence word counts\n",
    "train_lens = train_csv_tokenized['question_text'].str.len()\n",
    "test_lens  = test_csv_tokenized['question_text'].str.len()"
   ]
  },
  {
   "cell_type": "code",
   "execution_count": 12,
   "id": "c9f8bcc8",
   "metadata": {
    "execution": {
     "iopub.execute_input": "2022-04-24T19:54:04.934903Z",
     "iopub.status.busy": "2022-04-24T19:54:04.934377Z",
     "iopub.status.idle": "2022-04-24T19:54:05.294394Z",
     "shell.execute_reply": "2022-04-24T19:54:05.293582Z"
    },
    "papermill": {
     "duration": 0.397803,
     "end_time": "2022-04-24T19:54:05.296234",
     "exception": false,
     "start_time": "2022-04-24T19:54:04.898431",
     "status": "completed"
    },
    "tags": []
   },
   "outputs": [
    {
     "data": {
      "text/plain": [
       "(array([2.3000e+01, 1.9414e+04, 8.2210e+04, 9.4476e+04, 6.2192e+04,\n",
       "        3.8077e+04, 2.4214e+04, 1.6343e+04, 1.1583e+04, 5.7650e+03,\n",
       "        6.4340e+03, 4.3170e+03, 2.9310e+03, 2.1580e+03, 1.8710e+03,\n",
       "        1.4730e+03, 1.0740e+03, 6.1500e+02, 3.6000e+02, 1.1600e+02,\n",
       "        1.1000e+02, 3.4000e+01, 9.0000e+00, 4.0000e+00, 2.0000e+00,\n",
       "        0.0000e+00, 0.0000e+00, 0.0000e+00, 0.0000e+00, 1.0000e+00]),\n",
       " array([ 1. ,  3.9,  6.8,  9.7, 12.6, 15.5, 18.4, 21.3, 24.2, 27.1, 30. ,\n",
       "        32.9, 35.8, 38.7, 41.6, 44.5, 47.4, 50.3, 53.2, 56.1, 59. , 61.9,\n",
       "        64.8, 67.7, 70.6, 73.5, 76.4, 79.3, 82.2, 85.1, 88. ]),\n",
       " <BarContainer object of 30 artists>)"
      ]
     },
     "execution_count": 12,
     "metadata": {},
     "output_type": "execute_result"
    },
    {
     "data": {
      "image/png": "[encoded data removed]",
      "text/plain": [
       "<Figure size 432x288 with 1 Axes>"
      ]
     },
     "metadata": {
      "needs_background": "light"
     },
     "output_type": "display_data"
    }
   ],
   "source": [
    "# Plot sentence word counts\n",
    "plt.hist(train_lens, bins=30)\n",
    "plt.hist(test_lens, bins=30)"
   ]
  },
  {
   "cell_type": "markdown",
   "id": "f3a7b1e3",
   "metadata": {
    "papermill": {
     "duration": 0.035431,
     "end_time": "2022-04-24T19:54:05.366951",
     "exception": false,
     "start_time": "2022-04-24T19:54:05.331520",
     "status": "completed"
    },
    "tags": []
   },
   "source": [
    "Most sentences have less than 50 words, so lets choose 50 as max_len"
   ]
  },
  {
   "cell_type": "code",
   "execution_count": 13,
   "id": "3fbd8f80",
   "metadata": {
    "execution": {
     "iopub.execute_input": "2022-04-24T19:54:05.440513Z",
     "iopub.status.busy": "2022-04-24T19:54:05.439754Z",
     "iopub.status.idle": "2022-04-24T19:54:10.809922Z",
     "shell.execute_reply": "2022-04-24T19:54:10.809040Z"
    },
    "papermill": {
     "duration": 5.409364,
     "end_time": "2022-04-24T19:54:10.812069",
     "exception": false,
     "start_time": "2022-04-24T19:54:05.402705",
     "status": "completed"
    },
    "tags": []
   },
   "outputs": [],
   "source": [
    "from collections import Counter\n",
    "\n",
    "vocab = Counter()\n",
    "for sentence in train_csv_tokenized['question_text'].values:\n",
    "    vocab.update(sentence)"
   ]
  },
  {
   "cell_type": "code",
   "execution_count": 14,
   "id": "9db39fb0",
   "metadata": {
    "execution": {
     "iopub.execute_input": "2022-04-24T19:54:10.884430Z",
     "iopub.status.busy": "2022-04-24T19:54:10.884121Z",
     "iopub.status.idle": "2022-04-24T19:58:24.275123Z",
     "shell.execute_reply": "2022-04-24T19:58:24.273633Z"
    },
    "papermill": {
     "duration": 253.432712,
     "end_time": "2022-04-24T19:58:24.280195",
     "exception": false,
     "start_time": "2022-04-24T19:54:10.847483",
     "status": "completed"
    },
    "tags": []
   },
   "outputs": [
    {
     "name": "stderr",
     "output_type": "stream",
     "text": [
      "100%|█████████▉| 2196016/2196017 [03:33<00:00, 10285.88it/s]\n"
     ]
    }
   ],
   "source": [
    "glove_path = './glove.840B.300d/glove.840B.300d.txt'\n",
    "glove = torchtext.vocab.Vectors(glove_path)"
   ]
  },
  {
   "cell_type": "code",
   "execution_count": 15,
   "id": "6e4220cb",
   "metadata": {
    "execution": {
     "iopub.execute_input": "2022-04-24T19:58:27.358579Z",
     "iopub.status.busy": "2022-04-24T19:58:27.358123Z",
     "iopub.status.idle": "2022-04-24T19:58:27.410524Z",
     "shell.execute_reply": "2022-04-24T19:58:27.409586Z"
    },
    "papermill": {
     "duration": 0.729276,
     "end_time": "2022-04-24T19:58:27.412314",
     "exception": false,
     "start_time": "2022-04-24T19:58:26.683038",
     "status": "completed"
    },
    "tags": []
   },
   "outputs": [],
   "source": [
    "def check_coverage(vocab, embedding):\n",
    "    found = Counter()\n",
    "    oov = Counter()\n",
    "    for word in tqdm(vocab):\n",
    "        if any(embedding[word] != 0.):\n",
    "            found.update({word: vocab[word]})\n",
    "        else:\n",
    "            oov.update({word: vocab[word]})\n",
    "            \n",
    "    print(\"Percentage of unique words not found in GloVe: \", len(oov) / len(vocab) * 100, \"%\")\n",
    "    print(\"Percentage of words not found in GloVe in total: \", sum(oov.values()) / sum(vocab.values()) * 100, \"%\")\n",
    "\n",
    "    return found, oov"
   ]
  },
  {
   "cell_type": "code",
   "execution_count": 16,
   "id": "02a30434",
   "metadata": {
    "execution": {
     "iopub.execute_input": "2022-04-24T19:58:28.640151Z",
     "iopub.status.busy": "2022-04-24T19:58:28.639622Z",
     "iopub.status.idle": "2022-04-24T19:59:46.227194Z",
     "shell.execute_reply": "2022-04-24T19:59:46.225914Z"
    },
    "papermill": {
     "duration": 78.195688,
     "end_time": "2022-04-24T19:59:46.229558",
     "exception": false,
     "start_time": "2022-04-24T19:58:28.033870",
     "status": "completed"
    },
    "tags": []
   },
   "outputs": [
    {
     "name": "stderr",
     "output_type": "stream",
     "text": [
      "100%|██████████| 260188/260188 [01:17<00:00, 3354.09it/s]"
     ]
    },
    {
     "name": "stdout",
     "output_type": "stream",
     "text": [
      "Percentage of unique words not found in GloVe:  47.389964179746954 %\n",
      "Percentage of words not found in GloVe in total:  1.129196160941184 %\n"
     ]
    },
    {
     "name": "stderr",
     "output_type": "stream",
     "text": [
      "\n"
     ]
    }
   ],
   "source": [
    "found, oov = check_coverage(vocab, glove)"
   ]
  },
  {
   "cell_type": "code",
   "execution_count": 17,
   "id": "056d1ae8",
   "metadata": {
    "execution": {
     "iopub.execute_input": "2022-04-24T19:59:47.899488Z",
     "iopub.status.busy": "2022-04-24T19:59:47.898894Z",
     "iopub.status.idle": "2022-04-24T19:59:47.945708Z",
     "shell.execute_reply": "2022-04-24T19:59:47.944811Z"
    },
    "papermill": {
     "duration": 0.910623,
     "end_time": "2022-04-24T19:59:47.947433",
     "exception": false,
     "start_time": "2022-04-24T19:59:47.036810",
     "status": "completed"
    },
    "tags": []
   },
   "outputs": [
    {
     "data": {
      "text/plain": [
       "[('i’m', 2573),\n",
       " ('don’t', 2244),\n",
       " ('what’s', 1817),\n",
       " ('it’s', 1077),\n",
       " ('can’t', 1039),\n",
       " ('quorans', 855),\n",
       " ('doesn’t', 814),\n",
       " ('100%', 661),\n",
       " ('i’ve', 582),\n",
       " ('isn’t', 540),\n",
       " ('didn’t', 503),\n",
       " ('cryptocurrencies', 497),\n",
       " ('brexit', 495),\n",
       " ('you’ve', 495),\n",
       " ('redmi', 382),\n",
       " ('you’re', 359),\n",
       " ('paytm', 351),\n",
       " ('kvpy', 350),\n",
       " ('iiser', 336),\n",
       " ('ethereum', 329),\n",
       " ('50%', 321),\n",
       " ('[/math]', 294),\n",
       " ('aren’t', 293),\n",
       " ('[math]', 285),\n",
       " ('90%', 276),\n",
       " ('iisc', 268),\n",
       " ('won’t', 266),\n",
       " ('he’s', 261),\n",
       " ('$1', 259),\n",
       " ('$100', 256),\n",
       " ('c#', 252),\n",
       " ('they’re', 243),\n",
       " ('trump’s', 239),\n",
       " ('//www', 230),\n",
       " ('5%', 229),\n",
       " ('60%', 219),\n",
       " ('10%', 216),\n",
       " ('jinping', 211),\n",
       " ('viteee', 185),\n",
       " ('that’s', 185),\n",
       " ('haven’t', 177),\n",
       " ('iocl', 176),\n",
       " ('$10', 174),\n",
       " ('80%', 173),\n",
       " ('1%', 171),\n",
       " ('20%', 170),\n",
       " ('wouldn’t', 170),\n",
       " ('nmims', 163),\n",
       " ('75%', 161),\n",
       " ('95%', 158),\n",
       " ('fortnite', 156),\n",
       " ('rohingya', 156),\n",
       " ('upes', 156),\n",
       " ('shouldn’t', 154),\n",
       " ('coinbase', 148),\n",
       " ('85%', 146),\n",
       " ('cpec', 145),\n",
       " ('she’s', 145),\n",
       " ('$500', 142),\n",
       " ('“the', 142),\n",
       " ('there’s', 141),\n",
       " ('oneplus', 139),\n",
       " ('jadavpur', 138),\n",
       " ('iitians', 135),\n",
       " ('$1000', 134),\n",
       " ('nsit', 132),\n",
       " ('99%', 131),\n",
       " ('70%', 129),\n",
       " ('2%', 127),\n",
       " ('udemy', 126),\n",
       " ('^2', 125),\n",
       " ('afcat', 123),\n",
       " ('30%', 122),\n",
       " ('bahubali', 121),\n",
       " ('who’s', 121),\n",
       " ('uceed', 121),\n",
       " ('x^2', 121),\n",
       " ('wasn’t', 118),\n",
       " ('coep', 116),\n",
       " ('40%', 115),\n",
       " ('15%', 113),\n",
       " ('demonetisation', 113),\n",
       " ('hasn’t', 112),\n",
       " ('alt-right', 112),\n",
       " ('bhakts', 112),\n",
       " ('upwork', 110),\n",
       " ('25%', 109),\n",
       " ('machedo', 108),\n",
       " ('lyft', 106),\n",
       " ('adityanath', 106),\n",
       " ('gdpr', 106),\n",
       " ('someone’s', 106),\n",
       " ('upsee', 105),\n",
       " ('nlu', 104),\n",
       " ('people’s', 103),\n",
       " ('$5', 103),\n",
       " ('$50', 102),\n",
       " ('boruto', 100),\n",
       " ('bnbr', 99),\n",
       " ('chsl', 97)]"
      ]
     },
     "execution_count": 17,
     "metadata": {},
     "output_type": "execute_result"
    }
   ],
   "source": [
    "oov.most_common(100)"
   ]
  },
  {
   "cell_type": "markdown",
   "id": "97891988",
   "metadata": {
    "papermill": {
     "duration": 0.86629,
     "end_time": "2022-04-24T19:59:49.676829",
     "exception": false,
     "start_time": "2022-04-24T19:59:48.810539",
     "status": "completed"
    },
    "tags": []
   },
   "source": [
    "Most oov-s come from words that include ', \", $, -, and % symbols.\n",
    "\n",
    "TODO: Split, remove or replace these symbols."
   ]
  },
  {
   "cell_type": "code",
   "execution_count": 18,
   "id": "1d1811b2",
   "metadata": {
    "execution": {
     "iopub.execute_input": "2022-04-24T19:59:51.349703Z",
     "iopub.status.busy": "2022-04-24T19:59:51.349155Z",
     "iopub.status.idle": "2022-04-24T19:59:51.359042Z",
     "shell.execute_reply": "2022-04-24T19:59:51.358426Z"
    },
    "papermill": {
     "duration": 0.840679,
     "end_time": "2022-04-24T19:59:51.361119",
     "exception": false,
     "start_time": "2022-04-24T19:59:50.520440",
     "status": "completed"
    },
    "tags": []
   },
   "outputs": [],
   "source": [
    "def clean_and_tokenize(x):\n",
    "    global tokenizer\n",
    "        \n",
    "    # Replace , \" ’ ” ‘ [ ] { } … ™ ` ´\n",
    "    x = x.replace(',', '').replace('“', '').replace('’', \"'\").replace('[', '').replace(']', '').replace('{', '').replace('}', '').replace('…', '')\\\n",
    "        .replace('”', '\"').replace('‘', '').replace('™', ' tm ').replace('`', \"'\").replace('´', \"'\")\n",
    "    # Add extra space to %, $, ^, #\n",
    "    x = x.replace('%', ' % ').replace('$', ' $ ').replace('^', ' ^ ').replace('#', ' # ').replace('/', ' / ').replace('+', ' + ').replace('&', ' & ')\\\n",
    "        .replace('-', ' - ').replace('|', ' | ').replace('=', ' = ').replace('>', ' > ').replace('<', ' < ').replace('\\\\', ' \\ ').replace('*', ' * ')\\\n",
    "        .replace('₹', ' ₹ ').replace('£', ' £ ')\n",
    "    \n",
    "    return tokenizer(x)"
   ]
  },
  {
   "cell_type": "code",
   "execution_count": 19,
   "id": "74ebd182",
   "metadata": {
    "execution": {
     "iopub.execute_input": "2022-04-24T19:59:52.987618Z",
     "iopub.status.busy": "2022-04-24T19:59:52.987008Z",
     "iopub.status.idle": "2022-04-24T20:00:20.849540Z",
     "shell.execute_reply": "2022-04-24T20:00:20.848574Z"
    },
    "papermill": {
     "duration": 28.66873,
     "end_time": "2022-04-24T20:00:20.853318",
     "exception": false,
     "start_time": "2022-04-24T19:59:52.184588",
     "status": "completed"
    },
    "tags": []
   },
   "outputs": [],
   "source": [
    "# Tokenize sentences in train and test sets\n",
    "train_csv_tokenized = train_csv\n",
    "test_csv_tokenized  = test_csv\n",
    "train_csv_tokenized['question_text'] = train_csv['question_text'].apply(lambda x: clean_and_tokenize(x))\n",
    "test_csv_tokenized['question_text']  = test_csv['question_text'].apply(lambda x: clean_and_tokenize(x))"
   ]
  },
  {
   "cell_type": "code",
   "execution_count": 20,
   "id": "7513a6b2",
   "metadata": {
    "execution": {
     "iopub.execute_input": "2022-04-24T20:00:22.466681Z",
     "iopub.status.busy": "2022-04-24T20:00:22.466413Z",
     "iopub.status.idle": "2022-04-24T20:00:28.424846Z",
     "shell.execute_reply": "2022-04-24T20:00:28.423732Z"
    },
    "papermill": {
     "duration": 6.765,
     "end_time": "2022-04-24T20:00:28.426640",
     "exception": false,
     "start_time": "2022-04-24T20:00:21.661640",
     "status": "completed"
    },
    "tags": []
   },
   "outputs": [
    {
     "name": "stderr",
     "output_type": "stream",
     "text": [
      "100%|██████████| 1306122/1306122 [00:05<00:00, 220031.57it/s]\n"
     ]
    }
   ],
   "source": [
    "from collections import Counter\n",
    "\n",
    "vocab = Counter()\n",
    "for sentence in tqdm(train_csv_tokenized['question_text'].values):\n",
    "    vocab.update(sentence)"
   ]
  },
  {
   "cell_type": "code",
   "execution_count": 21,
   "id": "92ddaa39",
   "metadata": {
    "execution": {
     "iopub.execute_input": "2022-04-24T20:00:31.074572Z",
     "iopub.status.busy": "2022-04-24T20:00:31.074262Z",
     "iopub.status.idle": "2022-04-24T20:01:35.851534Z",
     "shell.execute_reply": "2022-04-24T20:01:35.849077Z"
    },
    "papermill": {
     "duration": 66.463309,
     "end_time": "2022-04-24T20:01:35.854163",
     "exception": false,
     "start_time": "2022-04-24T20:00:29.390854",
     "status": "completed"
    },
    "tags": []
   },
   "outputs": [
    {
     "name": "stderr",
     "output_type": "stream",
     "text": [
      "100%|██████████| 199679/199679 [01:04<00:00, 3091.89it/s]\n"
     ]
    },
    {
     "name": "stdout",
     "output_type": "stream",
     "text": [
      "Percentage of unique words not found in GloVe:  37.497683782470865 %\n",
      "Percentage of words not found in GloVe in total:  0.6474193021414578 %\n"
     ]
    }
   ],
   "source": [
    "found, oov = check_coverage(vocab, glove)"
   ]
  },
  {
   "cell_type": "code",
   "execution_count": 22,
   "id": "c5947238",
   "metadata": {
    "execution": {
     "iopub.execute_input": "2022-04-24T20:01:37.844998Z",
     "iopub.status.busy": "2022-04-24T20:01:37.844719Z",
     "iopub.status.idle": "2022-04-24T20:01:37.902797Z",
     "shell.execute_reply": "2022-04-24T20:01:37.901771Z"
    },
    "papermill": {
     "duration": 1.055654,
     "end_time": "2022-04-24T20:01:37.904766",
     "exception": false,
     "start_time": "2022-04-24T20:01:36.849112",
     "status": "completed"
    },
    "tags": []
   },
   "outputs": [
    {
     "data": {
      "text/plain": [
       "[('quorans', 858),\n",
       " ('brexit', 524),\n",
       " ('cryptocurrencies', 499),\n",
       " ('redmi', 383),\n",
       " ('kvpy', 356),\n",
       " ('paytm', 355),\n",
       " ('iiser', 345),\n",
       " ('ethereum', 334),\n",
       " ('iisc', 278),\n",
       " ('₹', 227),\n",
       " ('jinping', 211),\n",
       " ('viteee', 186),\n",
       " ('iocl', 178),\n",
       " ('nmims', 163),\n",
       " ('rohingya', 157),\n",
       " ('upes', 157),\n",
       " ('fortnite', 156),\n",
       " ('coinbase', 149),\n",
       " ('nsit', 147),\n",
       " ('cpec', 146),\n",
       " ('iitians', 143),\n",
       " ('oneplus', 139),\n",
       " ('jadavpur', 138),\n",
       " ('udemy', 128),\n",
       " ('lyft', 126),\n",
       " ('bahubali', 123),\n",
       " ('uceed', 123),\n",
       " ('afcat', 123),\n",
       " ('coep', 119),\n",
       " ('bhakts', 115),\n",
       " ('demonetisation', 115),\n",
       " ('upwork', 111),\n",
       " ('machedo', 108),\n",
       " ('gdpr', 107),\n",
       " ('nlu', 107),\n",
       " ('adityanath', 106),\n",
       " ('upsee', 105),\n",
       " ('boruto', 102),\n",
       " ('bnbr', 100),\n",
       " ('chsl', 99),\n",
       " ('kernan', 97),\n",
       " ('amcat', 94),\n",
       " ('udacity', 93),\n",
       " ('josaa', 93),\n",
       " ('kylo', 93),\n",
       " ('alshamsi', 92),\n",
       " ('vishwanathan', 92),\n",
       " ('iitian', 91),\n",
       " ('dceu', 90),\n",
       " ('litecoin', 87),\n",
       " ('unacademy', 86),\n",
       " ('iiest', 86),\n",
       " ('laravel', 84),\n",
       " ('sjws', 84),\n",
       " ('rvce', 84),\n",
       " ('qoura', 82),\n",
       " ('vjti', 81),\n",
       " ('zerodha', 80),\n",
       " ('corbyn', 77),\n",
       " ('xlri', 76),\n",
       " ('msrit', 76),\n",
       " ('iitb', 75),\n",
       " ('tensorflow', 74),\n",
       " ('intps', 73),\n",
       " ('ctmu', 72),\n",
       " ('jiit', 72),\n",
       " ('mathx', 72),\n",
       " ('gitam', 71),\n",
       " ('doklam', 70),\n",
       " ('hyperloop', 70),\n",
       " ('kavalireddi', 69),\n",
       " ('lnmiit', 68),\n",
       " ('myntra', 67),\n",
       " ('intjs', 67),\n",
       " ('muoet', 66),\n",
       " ('mnnit', 65),\n",
       " ('xamarin', 65),\n",
       " ('nitk', 64),\n",
       " ('tywin', 63),\n",
       " ('kotlin', 62),\n",
       " ('shibpur', 62),\n",
       " ('nptel', 61),\n",
       " ('nicmar', 61),\n",
       " ('niser', 61),\n",
       " ('ggsipu', 61),\n",
       " ('moocs', 61),\n",
       " ('banasthali', 61),\n",
       " ('vajiram', 60),\n",
       " ('adhaar', 59),\n",
       " ('modiji', 59),\n",
       " ('manafort', 59),\n",
       " ('duterte', 58),\n",
       " ('zebpay', 58),\n",
       " ('elitmus', 57),\n",
       " ('infjs', 57),\n",
       " ('srmjee', 56),\n",
       " ('aurangzeb', 54),\n",
       " ('biharis', 54),\n",
       " ('pubg', 54),\n",
       " ('altcoins', 54)]"
      ]
     },
     "execution_count": 22,
     "metadata": {},
     "output_type": "execute_result"
    }
   ],
   "source": [
    "oov.most_common(100)"
   ]
  },
  {
   "cell_type": "markdown",
   "id": "0afa0053",
   "metadata": {
    "papermill": {
     "duration": 1.075356,
     "end_time": "2022-04-24T20:01:39.985924",
     "exception": false,
     "start_time": "2022-04-24T20:01:38.910568",
     "status": "completed"
    },
    "tags": []
   },
   "source": [
    "# Model building"
   ]
  },
  {
   "cell_type": "code",
   "execution_count": 23,
   "id": "d13003a6",
   "metadata": {
    "execution": {
     "iopub.execute_input": "2022-04-24T20:01:42.024006Z",
     "iopub.status.busy": "2022-04-24T20:01:42.023753Z",
     "iopub.status.idle": "2022-04-24T20:01:48.629400Z",
     "shell.execute_reply": "2022-04-24T20:01:48.628421Z"
    },
    "papermill": {
     "duration": 7.644827,
     "end_time": "2022-04-24T20:01:48.631727",
     "exception": false,
     "start_time": "2022-04-24T20:01:40.986900",
     "status": "completed"
    },
    "tags": []
   },
   "outputs": [],
   "source": [
    "from torchtext.vocab import build_vocab_from_iterator\n",
    "\n",
    "vocab = build_vocab_from_iterator(train_csv_tokenized['question_text'], specials=['<unk>'])\n",
    "vocab.set_default_index(vocab['<unk>'])\n",
    "\n",
    "# TODO: plot word frequencies and keep words that appear at least x amount of times, DO THIS IN ABOVE CELLS WITH COUNTER"
   ]
  },
  {
   "cell_type": "code",
   "execution_count": 24,
   "id": "dfa0adf9",
   "metadata": {
    "execution": {
     "iopub.execute_input": "2022-04-24T20:01:50.627097Z",
     "iopub.status.busy": "2022-04-24T20:01:50.626618Z",
     "iopub.status.idle": "2022-04-24T20:01:50.706585Z",
     "shell.execute_reply": "2022-04-24T20:01:50.705596Z"
    },
    "papermill": {
     "duration": 1.073022,
     "end_time": "2022-04-24T20:01:50.708614",
     "exception": false,
     "start_time": "2022-04-24T20:01:49.635592",
     "status": "completed"
    },
    "tags": []
   },
   "outputs": [
    {
     "data": {
      "text/plain": [
       "['<unk>',\n",
       " '?',\n",
       " 'the',\n",
       " 'what',\n",
       " 'is',\n",
       " 'a',\n",
       " 'to',\n",
       " 'in',\n",
       " 'of',\n",
       " 'i',\n",
       " 'how',\n",
       " 'and',\n",
       " 'do',\n",
       " 'are',\n",
       " 'for',\n",
       " 'you',\n",
       " 'can',\n",
       " \"'\",\n",
       " 'why',\n",
       " 'it']"
      ]
     },
     "execution_count": 24,
     "metadata": {},
     "output_type": "execute_result"
    }
   ],
   "source": [
    "vocab.get_itos()[:20]"
   ]
  },
  {
   "cell_type": "code",
   "execution_count": 25,
   "id": "8e017dce",
   "metadata": {
    "execution": {
     "iopub.execute_input": "2022-04-24T20:01:52.726180Z",
     "iopub.status.busy": "2022-04-24T20:01:52.725653Z",
     "iopub.status.idle": "2022-04-24T20:01:53.883539Z",
     "shell.execute_reply": "2022-04-24T20:01:53.882455Z"
    },
    "papermill": {
     "duration": 2.184315,
     "end_time": "2022-04-24T20:01:53.886212",
     "exception": false,
     "start_time": "2022-04-24T20:01:51.701897",
     "status": "completed"
    },
    "tags": []
   },
   "outputs": [
    {
     "data": {
      "text/plain": [
       "(array([6.6156e+04, 1.9096e+05, 6.9765e+04, 2.7812e+04, 1.2556e+04,\n",
       "        4.8990e+03, 2.7010e+03, 7.9100e+02, 1.3700e+02, 1.5000e+01,\n",
       "        5.0000e+00, 3.0000e+00, 3.0000e+00, 1.0000e+00, 0.0000e+00,\n",
       "        0.0000e+00, 0.0000e+00, 0.0000e+00, 0.0000e+00, 0.0000e+00,\n",
       "        0.0000e+00, 0.0000e+00, 0.0000e+00, 0.0000e+00, 0.0000e+00,\n",
       "        0.0000e+00, 0.0000e+00, 0.0000e+00, 0.0000e+00, 0.0000e+00,\n",
       "        0.0000e+00, 0.0000e+00, 0.0000e+00, 0.0000e+00, 1.0000e+00,\n",
       "        0.0000e+00, 0.0000e+00, 0.0000e+00, 0.0000e+00, 0.0000e+00,\n",
       "        0.0000e+00, 0.0000e+00, 0.0000e+00, 0.0000e+00, 0.0000e+00,\n",
       "        0.0000e+00, 0.0000e+00, 0.0000e+00, 0.0000e+00, 1.0000e+00]),\n",
       " array([  1.  ,   8.24,  15.48,  22.72,  29.96,  37.2 ,  44.44,  51.68,\n",
       "         58.92,  66.16,  73.4 ,  80.64,  87.88,  95.12, 102.36, 109.6 ,\n",
       "        116.84, 124.08, 131.32, 138.56, 145.8 , 153.04, 160.28, 167.52,\n",
       "        174.76, 182.  , 189.24, 196.48, 203.72, 210.96, 218.2 , 225.44,\n",
       "        232.68, 239.92, 247.16, 254.4 , 261.64, 268.88, 276.12, 283.36,\n",
       "        290.6 , 297.84, 305.08, 312.32, 319.56, 326.8 , 334.04, 341.28,\n",
       "        348.52, 355.76, 363.  ]),\n",
       " <BarContainer object of 50 artists>)"
      ]
     },
     "execution_count": 25,
     "metadata": {},
     "output_type": "execute_result"
    },
    {
     "data": {
      "image/png": "[encoded data removed]",
      "text/plain": [
       "<Figure size 432x288 with 1 Axes>"
      ]
     },
     "metadata": {
      "needs_background": "light"
     },
     "output_type": "display_data"
    }
   ],
   "source": [
    "plt.hist(train_csv_tokenized['question_text'].str.len(), bins=50)\n",
    "plt.hist(test_csv_tokenized['question_text'].str.len(), bins=50)"
   ]
  },
  {
   "cell_type": "code",
   "execution_count": 26,
   "id": "aaca64eb",
   "metadata": {
    "execution": {
     "iopub.execute_input": "2022-04-24T20:01:55.970396Z",
     "iopub.status.busy": "2022-04-24T20:01:55.970125Z",
     "iopub.status.idle": "2022-04-24T20:01:56.883642Z",
     "shell.execute_reply": "2022-04-24T20:01:56.882696Z"
    },
    "papermill": {
     "duration": 1.977023,
     "end_time": "2022-04-24T20:01:56.885903",
     "exception": false,
     "start_time": "2022-04-24T20:01:54.908880",
     "status": "completed"
    },
    "tags": []
   },
   "outputs": [],
   "source": [
    "SEED = 78\n",
    "VAL_SPLIT = 0.9\n",
    "MAX_SEQ_LEN = 60\n",
    "\n",
    "# Shuffle, truncate and divide into train and validation sets\n",
    "train_size = int(len(train_csv_tokenized) * VAL_SPLIT)\n",
    "train_val = train_csv_tokenized.sample(frac=1, random_state=SEED)\n",
    "train_set = train_val[:train_size]\n",
    "val_set   = train_val[train_size:]"
   ]
  },
  {
   "cell_type": "code",
   "execution_count": 27,
   "id": "1537b0de",
   "metadata": {
    "execution": {
     "iopub.execute_input": "2022-04-24T20:01:58.887345Z",
     "iopub.status.busy": "2022-04-24T20:01:58.887077Z",
     "iopub.status.idle": "2022-04-24T20:02:01.909656Z",
     "shell.execute_reply": "2022-04-24T20:02:01.909005Z"
    },
    "papermill": {
     "duration": 4.020612,
     "end_time": "2022-04-24T20:02:01.911692",
     "exception": false,
     "start_time": "2022-04-24T20:01:57.891080",
     "status": "completed"
    },
    "tags": []
   },
   "outputs": [],
   "source": [
    "from torch.utils.data import DataLoader, TensorDataset\n",
    "\n",
    "def truncate(txt: list):\n",
    "    return txt[:min(MAX_SEQ_LEN, len(txt))]\n",
    "\n",
    "def collate_batch(batch):\n",
    "    x_s, y_s = [], []\n",
    "\n",
    "    for text, label in batch:\n",
    "        y_s.append(label)\n",
    "        x = torch.zeros(MAX_SEQ_LEN, dtype=torch.int32)\n",
    "        processed_text = vocab(truncate(text))\n",
    "        x[:len(processed_text)] = torch.tensor(processed_text, dtype=torch.int32)\n",
    "        x_s.append(x)\n",
    "\n",
    "    y_s = torch.tensor(y_s, dtype=torch.int32)\n",
    "    x_s = torch.stack(x_s, dim=0)\n",
    "    return x_s, y_s\n",
    "\n",
    "train_dl = DataLoader(\n",
    "    list(zip(train_set['question_text'], train_set['target'])), \n",
    "    batch_size=1024, \n",
    "    shuffle=True, \n",
    "    collate_fn=collate_batch)\n",
    "\n",
    "valid_dl = DataLoader(\n",
    "    list(zip(val_set['question_text'], val_set['target'])), \n",
    "    batch_size=1024*2, \n",
    "    shuffle=False, \n",
    "    collate_fn=collate_batch)"
   ]
  },
  {
   "cell_type": "code",
   "execution_count": 28,
   "id": "77be82c0",
   "metadata": {
    "execution": {
     "iopub.execute_input": "2022-04-24T20:02:03.996213Z",
     "iopub.status.busy": "2022-04-24T20:02:03.995906Z",
     "iopub.status.idle": "2022-04-24T20:02:07.680991Z",
     "shell.execute_reply": "2022-04-24T20:02:07.679937Z"
    },
    "papermill": {
     "duration": 4.760347,
     "end_time": "2022-04-24T20:02:07.683444",
     "exception": false,
     "start_time": "2022-04-24T20:02:02.923097",
     "status": "completed"
    },
    "tags": []
   },
   "outputs": [],
   "source": [
    "embed_vecs = glove.get_vecs_by_tokens(vocab.get_itos())"
   ]
  },
  {
   "cell_type": "code",
   "execution_count": 29,
   "id": "aa5ed157",
   "metadata": {
    "execution": {
     "iopub.execute_input": "2022-04-24T20:02:09.688756Z",
     "iopub.status.busy": "2022-04-24T20:02:09.688447Z",
     "iopub.status.idle": "2022-04-24T20:02:09.698724Z",
     "shell.execute_reply": "2022-04-24T20:02:09.697809Z"
    },
    "papermill": {
     "duration": 1.018709,
     "end_time": "2022-04-24T20:02:09.700782",
     "exception": false,
     "start_time": "2022-04-24T20:02:08.682073",
     "status": "completed"
    },
    "tags": []
   },
   "outputs": [],
   "source": [
    "class ClassifierModel(nn.Module):\n",
    "    def __init__(self):\n",
    "        super().__init__()\n",
    "        \n",
    "        global vocab\n",
    "        self.embedding_dim = 300\n",
    "        self.hidden_dim = 50\n",
    "        \n",
    "        # Embedding layer with learning turned off\n",
    "        self.emb = nn.Embedding(\n",
    "            num_embeddings = len(vocab), \n",
    "            embedding_dim = self.embedding_dim,\n",
    "            padding_idx = 0,\n",
    "            sparse = False\n",
    "        )\n",
    "        self.emb.weight = nn.Parameter(embed_vecs)\n",
    "        self.emb.weight.requires_grad = False\n",
    "        \n",
    "        # Bidirectional LSTM\n",
    "        self.lstm = nn.LSTM(\n",
    "            input_size = self.embedding_dim,\n",
    "            hidden_size = self.hidden_dim, \n",
    "            bias = True,\n",
    "            batch_first = True,\n",
    "            bidirectional = True\n",
    "        )\n",
    "        \n",
    "        \n",
    "        self.flatten = nn.Flatten()\n",
    "        self.lin = nn.Linear(\n",
    "            in_features  = self.hidden_dim * MAX_SEQ_LEN * 2, \n",
    "            out_features = 1, \n",
    "            bias = True\n",
    "        )\n",
    "\n",
    "    def forward(self, inp):\n",
    "        emb_output = self.emb(inp)\n",
    "        #print('Embedding: ', emb_output.shape)\n",
    "        \n",
    "        h0 = torch.zeros(2, inp.size(0), self.hidden_dim, device=inp.device)\n",
    "        c0 = torch.zeros(2, inp.size(0), self.hidden_dim, device=inp.device)\n",
    "        #print('Lstm args: ', h0.shape, c0.shape)\n",
    "        \n",
    "        lstm_output, _ = self.lstm(emb_output, (h0, c0))\n",
    "        #print('LSTM: ', lstm_output.shape)\n",
    "        \n",
    "        # Flatten the vectors\n",
    "        lstm_output = self.flatten(lstm_output)\n",
    "        #print('LSTM flat:', lstm_output.shape)\n",
    "        \n",
    "        last = self.lin(lstm_output)\n",
    "        #print('Final: ', last.shape)\n",
    "        \n",
    "        return last"
   ]
  },
  {
   "cell_type": "code",
   "execution_count": 30,
   "id": "ed3520fb",
   "metadata": {
    "execution": {
     "iopub.execute_input": "2022-04-24T20:02:11.737916Z",
     "iopub.status.busy": "2022-04-24T20:02:11.737151Z",
     "iopub.status.idle": "2022-04-24T20:02:12.628068Z",
     "shell.execute_reply": "2022-04-24T20:02:12.627013Z"
    },
    "papermill": {
     "duration": 1.937182,
     "end_time": "2022-04-24T20:02:12.630073",
     "exception": false,
     "start_time": "2022-04-24T20:02:10.692891",
     "status": "completed"
    },
    "tags": []
   },
   "outputs": [
    {
     "data": {
      "text/plain": [
       "ClassifierModel(\n",
       "  (emb): Embedding(199680, 300, padding_idx=0)\n",
       "  (lstm): LSTM(300, 50, batch_first=True, bidirectional=True)\n",
       "  (flatten): Flatten(start_dim=1, end_dim=-1)\n",
       "  (lin): Linear(in_features=6000, out_features=1, bias=True)\n",
       ")"
      ]
     },
     "execution_count": 30,
     "metadata": {},
     "output_type": "execute_result"
    }
   ],
   "source": [
    "ClassifierModel()"
   ]
  },
  {
   "cell_type": "code",
   "execution_count": 31,
   "id": "a8daa228",
   "metadata": {
    "execution": {
     "iopub.execute_input": "2022-04-24T20:02:14.670170Z",
     "iopub.status.busy": "2022-04-24T20:02:14.669607Z",
     "iopub.status.idle": "2022-04-24T20:02:14.675243Z",
     "shell.execute_reply": "2022-04-24T20:02:14.674595Z"
    },
    "papermill": {
     "duration": 1.040531,
     "end_time": "2022-04-24T20:02:14.677154",
     "exception": false,
     "start_time": "2022-04-24T20:02:13.636623",
     "status": "completed"
    },
    "tags": []
   },
   "outputs": [],
   "source": [
    "THRESHOLD = 0.5\n",
    "def sigmoid(x):\n",
    "    return 1 / (1 + np.exp(-x))\n",
    "\n",
    "def calc_accuracy(y, y_pred):\n",
    "    #return torch.Tensor((sigmoid(y_pred.detach().numpy()) > THRESHOLD))\n",
    "    return (torch.sum(y == torch.Tensor((sigmoid(y_pred.detach().numpy()) > THRESHOLD))).item() / y.size(0) * 100)"
   ]
  },
  {
   "cell_type": "code",
   "execution_count": 32,
   "id": "af01f890",
   "metadata": {
    "execution": {
     "iopub.execute_input": "2022-04-24T20:02:16.668465Z",
     "iopub.status.busy": "2022-04-24T20:02:16.667921Z",
     "iopub.status.idle": "2022-04-24T20:02:16.678035Z",
     "shell.execute_reply": "2022-04-24T20:02:16.677472Z"
    },
    "papermill": {
     "duration": 1.007916,
     "end_time": "2022-04-24T20:02:16.680054",
     "exception": false,
     "start_time": "2022-04-24T20:02:15.672138",
     "status": "completed"
    },
    "tags": []
   },
   "outputs": [],
   "source": [
    "def train_loop(model, epochs: int = 20):\n",
    "    optimizer = torch.optim.Adam(model.parameters(), lr=1e-3, weight_decay=1e-5)\n",
    "    loss_fn = nn.BCEWithLogitsLoss(reduction='mean')\n",
    "    print(\"Training started.\")\n",
    "    \n",
    "    for epoch in range(epochs):\n",
    "        start_time = time.time()\n",
    "        for i, (x, y) in enumerate(train_dl):\n",
    "            optimizer.zero_grad()\n",
    "            y_pred = model(x)\n",
    "            loss = loss_fn(y_pred, y.unsqueeze(1).float())\n",
    "            loss.backward()\n",
    "            optimizer.step()\n",
    "            \n",
    "        train_loss, train_acc, val_loss, val_acc = 0, 0, 0, 0\n",
    "        for x_train, y_train in train_dl:\n",
    "            train_pred = model(x_train)\n",
    "            train_loss += loss_fn(train_pred, y_train.unsqueeze(1).float()).item()\n",
    "            train_acc += calc_accuracy(y_train, train_pred)\n",
    "\n",
    "        for x_val, y_val in valid_dl:\n",
    "            val_pred = model(x_val)\n",
    "            val_loss += loss_fn(val_pred, y_val.unsqueeze(1).float()).item()\n",
    "            val_acc += calc_accuracy(y_val, val_pred)\n",
    "\n",
    "        elapsed_time = time.time() - start_time\n",
    "\n",
    "        print('Epoch: ', epoch + 1, \n",
    "              #'\\tIter: ', i + 1, \n",
    "              '\\tLoss: {:.9f}'.format(train_loss / len(train_dl)),\n",
    "              '\\tAccuracy: {:.3f}%'.format(train_acc / len(train_dl)),\n",
    "              '\\tVal Loss: {:.9f}'.format(val_loss / len(valid_dl)),\n",
    "              '\\tVal Accuracy: {:.3f}%'.format(val_acc / len(valid_dl)),\n",
    "              '\\tTime: {:.3f}s', elapsed_time)\n",
    "    \n",
    "    print('Training ended.')"
   ]
  },
  {
   "cell_type": "code",
   "execution_count": 33,
   "id": "c0fe5936",
   "metadata": {
    "execution": {
     "iopub.execute_input": "2022-04-24T20:02:18.675416Z",
     "iopub.status.busy": "2022-04-24T20:02:18.675118Z",
     "iopub.status.idle": "2022-04-24T22:00:07.351674Z",
     "shell.execute_reply": "2022-04-24T22:00:07.350524Z"
    },
    "papermill": {
     "duration": 7070.700559,
     "end_time": "2022-04-24T22:00:08.379694",
     "exception": false,
     "start_time": "2022-04-24T20:02:17.679135",
     "status": "completed"
    },
    "tags": []
   },
   "outputs": [
    {
     "name": "stdout",
     "output_type": "stream",
     "text": [
      "Training started.\n",
      "Epoch:  1 \tLoss: 0.105945954 \tAccuracy: 91242.052% \tVal Loss: 0.106005981 \tVal Accuracy: 181934.169% \tTime: {:.3f}s 1381.2586572170258\n",
      "Epoch:  2 \tLoss: 0.098877075 \tAccuracy: 91328.854% \tVal Loss: 0.100753544 \tVal Accuracy: 182166.159% \tTime: {:.3f}s 1375.469530582428\n",
      "Epoch:  3 \tLoss: 0.095350282 \tAccuracy: 91317.913% \tVal Loss: 0.099473024 \tVal Accuracy: 182082.693% \tTime: {:.3f}s 1404.9409523010254\n",
      "Epoch:  4 \tLoss: 0.092904191 \tAccuracy: 92061.649% \tVal Loss: 0.099201881 \tVal Accuracy: 183575.670% \tTime: {:.3f}s 1456.6047897338867\n",
      "Epoch:  5 \tLoss: 0.091136023 \tAccuracy: 90839.322% \tVal Loss: 0.099106745 \tVal Accuracy: 181077.551% \tTime: {:.3f}s 1449.7591795921326\n",
      "Training ended.\n"
     ]
    }
   ],
   "source": [
    "model = ClassifierModel()\n",
    "train_loop(model, epochs=5)"
   ]
  },
  {
   "cell_type": "code",
   "execution_count": 34,
   "id": "f7519c23",
   "metadata": {
    "execution": {
     "iopub.execute_input": "2022-04-24T22:00:10.411253Z",
     "iopub.status.busy": "2022-04-24T22:00:10.410778Z",
     "iopub.status.idle": "2022-04-24T22:00:12.047651Z",
     "shell.execute_reply": "2022-04-24T22:00:12.046515Z"
    },
    "papermill": {
     "duration": 2.664299,
     "end_time": "2022-04-24T22:00:12.050648",
     "exception": false,
     "start_time": "2022-04-24T22:00:09.386349",
     "status": "completed"
    },
    "tags": []
   },
   "outputs": [],
   "source": [
    "def collate_batch_test(batch):\n",
    "    qids, x_s = [], []\n",
    "\n",
    "    for qid, text, in batch:\n",
    "        qids.append(qid)\n",
    "        x = torch.zeros(MAX_SEQ_LEN, dtype=torch.int32)\n",
    "        processed_text = vocab(truncate(text))\n",
    "        x[:len(processed_text)] = torch.tensor(processed_text, dtype=torch.int32)\n",
    "        x_s.append(x)\n",
    "    \n",
    "    x_s = torch.stack(x_s, dim=0)\n",
    "    return qids, x_s\n",
    "\n",
    "test_dl = DataLoader(\n",
    "    list(zip(test_csv_tokenized['qid'], test_csv_tokenized['question_text'])), \n",
    "    batch_size=1024*2, \n",
    "    shuffle=False, \n",
    "    collate_fn=collate_batch_test)"
   ]
  },
  {
   "cell_type": "code",
   "execution_count": 35,
   "id": "e7282062",
   "metadata": {
    "execution": {
     "iopub.execute_input": "2022-04-24T22:00:14.071770Z",
     "iopub.status.busy": "2022-04-24T22:00:14.071235Z",
     "iopub.status.idle": "2022-04-24T22:02:33.903359Z",
     "shell.execute_reply": "2022-04-24T22:02:33.902574Z"
    },
    "papermill": {
     "duration": 140.842756,
     "end_time": "2022-04-24T22:02:33.905953",
     "exception": false,
     "start_time": "2022-04-24T22:00:13.063197",
     "status": "completed"
    },
    "tags": []
   },
   "outputs": [],
   "source": [
    "ans = pd.DataFrame(columns=['qid', 'prediction'])\n",
    "for qid, x in test_dl:\n",
    "    tmp = pd.DataFrame(columns=['qid', 'prediction'])\n",
    "    tmp['qid'] = qid\n",
    "    tmp['prediction'] = (sigmoid(model(x).detach().numpy()) > THRESHOLD).astype(int)\n",
    "    ans = ans.append(tmp)"
   ]
  },
  {
   "cell_type": "code",
   "execution_count": 36,
   "id": "62f8668b",
   "metadata": {
    "execution": {
     "iopub.execute_input": "2022-04-24T22:02:35.925437Z",
     "iopub.status.busy": "2022-04-24T22:02:35.925148Z",
     "iopub.status.idle": "2022-04-24T22:02:35.938538Z",
     "shell.execute_reply": "2022-04-24T22:02:35.937780Z"
    },
    "papermill": {
     "duration": 1.025117,
     "end_time": "2022-04-24T22:02:35.940368",
     "exception": false,
     "start_time": "2022-04-24T22:02:34.915251",
     "status": "completed"
    },
    "tags": []
   },
   "outputs": [
    {
     "data": {
      "text/html": [
       "<div>\n",
       "<style scoped>\n",
       "    .dataframe tbody tr th:only-of-type {\n",
       "        vertical-align: middle;\n",
       "    }\n",
       "\n",
       "    .dataframe tbody tr th {\n",
       "        vertical-align: top;\n",
       "    }\n",
       "\n",
       "    .dataframe thead th {\n",
       "        text-align: right;\n",
       "    }\n",
       "</style>\n",
       "<table border=\"1\" class=\"dataframe\">\n",
       "  <thead>\n",
       "    <tr style=\"text-align: right;\">\n",
       "      <th></th>\n",
       "      <th>qid</th>\n",
       "      <th>prediction</th>\n",
       "    </tr>\n",
       "  </thead>\n",
       "  <tbody>\n",
       "    <tr>\n",
       "      <th>0</th>\n",
       "      <td>0000163e3ea7c7a74cd7</td>\n",
       "      <td>1</td>\n",
       "    </tr>\n",
       "    <tr>\n",
       "      <th>1</th>\n",
       "      <td>00002bd4fb5d505b9161</td>\n",
       "      <td>0</td>\n",
       "    </tr>\n",
       "    <tr>\n",
       "      <th>2</th>\n",
       "      <td>00007756b4a147d2b0b3</td>\n",
       "      <td>0</td>\n",
       "    </tr>\n",
       "    <tr>\n",
       "      <th>3</th>\n",
       "      <td>000086e4b7e1c7146103</td>\n",
       "      <td>0</td>\n",
       "    </tr>\n",
       "    <tr>\n",
       "      <th>4</th>\n",
       "      <td>0000c4c3fbe8785a3090</td>\n",
       "      <td>0</td>\n",
       "    </tr>\n",
       "    <tr>\n",
       "      <th>...</th>\n",
       "      <td>...</td>\n",
       "      <td>...</td>\n",
       "    </tr>\n",
       "    <tr>\n",
       "      <th>1017</th>\n",
       "      <td>ffff7fa746bd6d6197a9</td>\n",
       "      <td>0</td>\n",
       "    </tr>\n",
       "    <tr>\n",
       "      <th>1018</th>\n",
       "      <td>ffffa1be31c43046ab6b</td>\n",
       "      <td>0</td>\n",
       "    </tr>\n",
       "    <tr>\n",
       "      <th>1019</th>\n",
       "      <td>ffffae173b6ca6bfa563</td>\n",
       "      <td>0</td>\n",
       "    </tr>\n",
       "    <tr>\n",
       "      <th>1020</th>\n",
       "      <td>ffffb1f7f1a008620287</td>\n",
       "      <td>0</td>\n",
       "    </tr>\n",
       "    <tr>\n",
       "      <th>1021</th>\n",
       "      <td>fffff85473f4699474b0</td>\n",
       "      <td>0</td>\n",
       "    </tr>\n",
       "  </tbody>\n",
       "</table>\n",
       "<p>375806 rows × 2 columns</p>\n",
       "</div>"
      ],
      "text/plain": [
       "                       qid prediction\n",
       "0     0000163e3ea7c7a74cd7          1\n",
       "1     00002bd4fb5d505b9161          0\n",
       "2     00007756b4a147d2b0b3          0\n",
       "3     000086e4b7e1c7146103          0\n",
       "4     0000c4c3fbe8785a3090          0\n",
       "...                    ...        ...\n",
       "1017  ffff7fa746bd6d6197a9          0\n",
       "1018  ffffa1be31c43046ab6b          0\n",
       "1019  ffffae173b6ca6bfa563          0\n",
       "1020  ffffb1f7f1a008620287          0\n",
       "1021  fffff85473f4699474b0          0\n",
       "\n",
       "[375806 rows x 2 columns]"
      ]
     },
     "execution_count": 36,
     "metadata": {},
     "output_type": "execute_result"
    }
   ],
   "source": [
    "ans"
   ]
  },
  {
   "cell_type": "code",
   "execution_count": 37,
   "id": "11dd4640",
   "metadata": {
    "execution": {
     "iopub.execute_input": "2022-04-24T22:02:37.946220Z",
     "iopub.status.busy": "2022-04-24T22:02:37.945805Z",
     "iopub.status.idle": "2022-04-24T22:02:38.469931Z",
     "shell.execute_reply": "2022-04-24T22:02:38.469294Z"
    },
    "papermill": {
     "duration": 1.527138,
     "end_time": "2022-04-24T22:02:38.472001",
     "exception": false,
     "start_time": "2022-04-24T22:02:36.944863",
     "status": "completed"
    },
    "tags": []
   },
   "outputs": [],
   "source": [
    "ans.to_csv('submission.csv', index=False)"
   ]
  },
  {
   "cell_type": "code",
   "execution_count": 38,
   "id": "f1c3ef99",
   "metadata": {
    "execution": {
     "iopub.execute_input": "2022-04-24T22:02:40.551416Z",
     "iopub.status.busy": "2022-04-24T22:02:40.551172Z",
     "iopub.status.idle": "2022-04-24T22:02:40.555083Z",
     "shell.execute_reply": "2022-04-24T22:02:40.554474Z"
    },
    "papermill": {
     "duration": 1.017972,
     "end_time": "2022-04-24T22:02:40.557578",
     "exception": false,
     "start_time": "2022-04-24T22:02:39.539606",
     "status": "completed"
    },
    "tags": []
   },
   "outputs": [],
   "source": [
    "x = torch.LongTensor([[1]*60, [2]*60])\n",
    "y = torch.Tensor([1, 0])"
   ]
  },
  {
   "cell_type": "code",
   "execution_count": 39,
   "id": "6b344291",
   "metadata": {
    "execution": {
     "iopub.execute_input": "2022-04-24T22:02:42.579173Z",
     "iopub.status.busy": "2022-04-24T22:02:42.578866Z",
     "iopub.status.idle": "2022-04-24T22:02:42.599883Z",
     "shell.execute_reply": "2022-04-24T22:02:42.598984Z"
    },
    "papermill": {
     "duration": 1.023754,
     "end_time": "2022-04-24T22:02:42.601556",
     "exception": false,
     "start_time": "2022-04-24T22:02:41.577802",
     "status": "completed"
    },
    "tags": []
   },
   "outputs": [
    {
     "data": {
      "text/plain": [
       "100.0"
      ]
     },
     "execution_count": 39,
     "metadata": {},
     "output_type": "execute_result"
    }
   ],
   "source": [
    "calc_accuracy(y, model(x))"
   ]
  },
  {
   "cell_type": "code",
   "execution_count": null,
   "id": "41bbacec",
   "metadata": {
    "papermill": {
     "duration": 1.00315,
     "end_time": "2022-04-24T22:02:44.604877",
     "exception": false,
     "start_time": "2022-04-24T22:02:43.601727",
     "status": "completed"
    },
    "tags": []
   },
   "outputs": [],
   "source": []
  }
 ],
 "metadata": {
  "kernelspec": {
   "display_name": "Python 3",
   "language": "python",
   "name": "python3"
  },
  "language_info": {
   "codemirror_mode": {
    "name": "ipython",
    "version": 3
   },
   "file_extension": ".py",
   "mimetype": "text/x-python",
   "name": "python",
   "nbconvert_exporter": "python",
   "pygments_lexer": "ipython3",
   "version": "3.7.12"
  },
  "papermill": {
   "default_parameters": {},
   "duration": 7959.122638,
   "end_time": "2022-04-24T22:02:48.357898",
   "environment_variables": {},
   "exception": null,
   "input_path": "__notebook__.ipynb",
   "output_path": "__notebook__.ipynb",
   "parameters": {},
   "start_time": "2022-04-24T19:50:09.235260",
   "version": "2.3.4"
  }
 },
 "nbformat": 4,
 "nbformat_minor": 5
}
